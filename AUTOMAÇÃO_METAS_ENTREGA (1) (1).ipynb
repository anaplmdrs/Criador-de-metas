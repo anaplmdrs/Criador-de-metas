{
 "cells": [
  {
   "cell_type": "code",
   "execution_count": 2,
   "id": "04678e31-ad76-4c50-a27a-d297a9fc622b",
   "metadata": {},
   "outputs": [
    {
     "name": "stdout",
     "output_type": "stream",
     "text": [
      "========================================================================\n",
      "-------Automação para atualização de metas de venda e ativação----------\n",
      "========================================================================\n",
      "==== Ao inserir o nome das regionais, não coloque acentos =============\n",
      "\n",
      "-----> Atualização da coluna 'Qtd ativação empresa'\n"
     ]
    },
    {
     "name": "stdin",
     "output_type": "stream",
     "text": [
      "Informe o mês para atualização da coluna Qtd ativação empresa: (ou digite \"fim\" para encerrar)  novembro\n",
      "Informe a regional para atualização:  natal\n",
      "Informe a quantidade de ativação para a regional NATAL no mês NOVEMBRO:  30\n"
     ]
    },
    {
     "name": "stdout",
     "output_type": "stream",
     "text": [
      "Você inseriu o valor de 30.0 na coluna Qtd ativação empresa para a regional NATAL. Este valor está correto?\n"
     ]
    },
    {
     "name": "stdin",
     "output_type": "stream",
     "text": [
      "Os valores estão corretos? (s/n):  s\n"
     ]
    },
    {
     "name": "stdout",
     "output_type": "stream",
     "text": [
      "O valor foi salvo com sucesso na coluna Qtd ativação empresa!\n"
     ]
    },
    {
     "name": "stdin",
     "output_type": "stream",
     "text": [
      "Informe o mês para atualização da coluna Qtd ativação empresa: (ou digite \"fim\" para encerrar)  fim\n"
     ]
    },
    {
     "name": "stdout",
     "output_type": "stream",
     "text": [
      "A atualização da coluna Qtd ativação empresa foi finalizada.\n",
      "-----> Atualização da coluna 'Qtd ativação comercial'\n"
     ]
    },
    {
     "name": "stdin",
     "output_type": "stream",
     "text": [
      "Informe o mês para atualização da coluna Qtd ativação comercial: (ou digite \"fim\" para encerrar)  fim\n"
     ]
    },
    {
     "name": "stdout",
     "output_type": "stream",
     "text": [
      "A atualização da coluna Qtd ativação comercial foi finalizada.\n",
      "-----> Atualização da coluna 'Qtd ativação operações'\n"
     ]
    },
    {
     "name": "stdin",
     "output_type": "stream",
     "text": [
      "Informe o mês para atualização da coluna Qtd ativação operações: (ou digite \"fim\" para encerrar)  fim\n"
     ]
    },
    {
     "name": "stdout",
     "output_type": "stream",
     "text": [
      "A atualização da coluna Qtd ativação operações foi finalizada.\n",
      "Arquivo Excel criado com sucesso!\n"
     ]
    }
   ],
   "source": [
    "import pandas as pd\n",
    "import datetime as dt\n",
    "import holidays as hld\n",
    "\n",
    "#CABEÇALHO\n",
    "print(\"=\" * 72)\n",
    "print(f'-------Automação para atualização de metas de venda e ativação----------')\n",
    "print(\"=\" * 72)\n",
    "print(f'==== Ao inserir o nome das regionais, não coloque acentos =============')\n",
    "print()\n",
    "\n",
    "# Definindo as colunas\n",
    "ano = 2024\n",
    "Data = pd.date_range(start= f\"{ano}-01-01\", end=f\"{ano}-12-31\").repeat(14)\n",
    "feriado_br = hld.Brazil(years=2024)  # Definindo feriados do Brasil em 2024\n",
    "regionais = [\"CAICO\", \"CAMPINA GRANDE\",\"CAPIM GROSSO\",\"FILADELFIA\",\"GUARABIRA\",\"JACOBINA\",\"LAGOA SECA\",\n",
    "\"LAJEDO\",\"MONTEIRO\",\"NATAL\",\"PICUI\",\"SANTA LUZIA\",\"SENHOR DO BONFIM\",\"SJ DO RIO DO PEIXE\"] #14 REGIONAIS\n",
    "\n",
    "# ESPECIFICIDADES DAS COLUNAS\n",
    "arq_metas = pd.DataFrame(Data, columns=[\"Data\"])\n",
    "arq_metas['Data'] = arq_metas['Data'].dt.strftime('%Y-%m-%d')\n",
    "arq_metas['Dia_semana'] = pd.to_datetime(Data).day_name(locale='pt_BR')\n",
    "arq_metas['Mês'] = pd.to_datetime(Data).month_name(locale='pt_BR').str.upper()\n",
    "arq_metas['Regional'] = [regionais[i % len(regionais)] for i in range(len(arq_metas))]\n",
    "\n",
    "# Inicializando as colunas de 'Qtd ativação empresa', 'Qtd ativação comercial' e 'Qtd ativação operações' com 0\n",
    "arq_metas['Qtd ativação empresa'] = 0\n",
    "arq_metas['Qtd ativação comercial'] = 0\n",
    "arq_metas['Qtd ativação operações'] = 0\n",
    "\n",
    "# Marcar os dias de feriado na coluna 'Dia_semana'\n",
    "for index, row in arq_metas.iterrows():\n",
    "    data_str = row['Data']  # Pegando a data como string\n",
    "    data_dt = dt.datetime.strptime(data_str, '%Y-%m-%d')  # Convertendo a string para datetime\n",
    "    if data_dt in feriado_br:\n",
    "        arq_metas.at[index, 'Dia_semana'] = 'Feriado'\n",
    "\n",
    "# Função genérica para cadastro de valores\n",
    "def cadastro_valores(nome_coluna, regra_distribuicao):\n",
    "    while True:\n",
    "        # Input do mês\n",
    "        mes_esp = str(input(f'Informe o mês para atualização da coluna {nome_coluna}: (ou digite \"fim\" para encerrar) ')).upper()\n",
    "        if mes_esp == 'FIM':\n",
    "            print(f'A atualização da coluna {nome_coluna} foi finalizada.')\n",
    "            break\n",
    "        \n",
    "        # Input da regional\n",
    "        regional_esp = str(input('Informe a regional para atualização: ')).upper()\n",
    "        \n",
    "        # Input do número de ativações\n",
    "        num_atv = float(input(f'Informe a quantidade de ativação para a regional {regional_esp} no mês {mes_esp}: '))\n",
    "        \n",
    "        # Filtro para encontrar as linhas com o mês e a regional especificados\n",
    "        filtro = (\n",
    "            (arq_metas['Mês'].str.upper() == mes_esp.upper()) & \n",
    "            (arq_metas['Regional'] == regional_esp)\n",
    "        )\n",
    "        \n",
    "        # Confirmação dos valores\n",
    "        print(f'Você inseriu o valor de {num_atv} na coluna {nome_coluna} para a regional {regional_esp}. Este valor está correto?')\n",
    "        confirmacao = input('Os valores estão corretos? (s/n): ').lower()\n",
    "\n",
    "        if confirmacao == 's':\n",
    "            # Convertendo as colunas para o tipo float\n",
    "            arq_metas['Qtd ativação empresa'] = arq_metas['Qtd ativação empresa'].astype(float)\n",
    "            arq_metas['Qtd ativação comercial'] = arq_metas['Qtd ativação comercial'].astype(float)\n",
    "            arq_metas['Qtd ativação operações'] = arq_metas['Qtd ativação operações'].astype(float)\n",
    "            # Aplicar a regra de distribuição fornecida para cada coluna\n",
    "            regra_distribuicao(filtro, num_atv, nome_coluna)\n",
    "            print(f'O valor foi salvo com sucesso na coluna {nome_coluna}!')\n",
    "        else:\n",
    "            print(\"Corrija o valor abaixo:\\n\")\n",
    "            continue\n",
    "\n",
    "# Regras de distribuição específicas para cada coluna\n",
    "def distribuicao_empresa(filtro, valor, coluna):\n",
    "    # Distribuir os valores para dias de segunda a sábado, exceto feriados\n",
    "    arq_metas.loc[filtro & arq_metas['Dia_semana'].isin(['Segunda-feira', \n",
    "                                                         'Terça-feira', \n",
    "                                                         'Quarta-feira',\n",
    "                                                         'Quinta-feira', \n",
    "                                                         'Sexta-feira']) & \n",
    "                  (arq_metas['Dia_semana'] != 'Feriado'),\n",
    "                  coluna] = round(valor * 0.92, 3)\n",
    "    \n",
    "    arq_metas.loc[filtro & arq_metas['Dia_semana'].isin(['Sábado']) & \n",
    "                  (arq_metas['Dia_semana'] != 'Feriado'),\n",
    "                  coluna] = round(valor * 0.08, 3)\n",
    "\n",
    "def distribuicao_comercial(filtro, valor, coluna):\n",
    "    # Semelhante à empresa: segunda a sábado, exceto feriados\n",
    "    arq_metas.loc[filtro & arq_metas['Dia_semana'].isin(['Segunda-feira', \n",
    "                                                         'Terça-feira', \n",
    "                                                         'Quarta-feira',\n",
    "                                                         'Quinta-feira', \n",
    "                                                         'Sexta-feira']) & \n",
    "                  (arq_metas['Dia_semana'] != 'Feriado'),\n",
    "                  coluna] = round(valor * 0.92, 3)\n",
    "    \n",
    "    arq_metas.loc[filtro & arq_metas['Dia_semana'].isin(['Sábado']) & \n",
    "                  (arq_metas['Dia_semana'] != 'Feriado'),\n",
    "                  coluna] = round(valor * 0.08, 3)\n",
    "\n",
    "\n",
    "def distribuicao_operacoes(filtro, valor, coluna):\n",
    "    # Operações ocorrem de segunda a sexta, exceto feriados\n",
    "    arq_metas.loc[filtro & ~arq_metas['Dia_semana'].isin(['Sábado', 'Domingo', 'Feriado']), coluna] = valor\n",
    "\n",
    "# Chamando a função para cada coluna\n",
    "print(f\"-----> Atualização da coluna 'Qtd ativação empresa'\")\n",
    "cadastro_valores('Qtd ativação empresa', distribuicao_empresa)\n",
    "\n",
    "print(f\"-----> Atualização da coluna 'Qtd ativação comercial'\")\n",
    "cadastro_valores('Qtd ativação comercial', distribuicao_comercial)\n",
    "\n",
    "print(f\"-----> Atualização da coluna 'Qtd ativação operações'\")\n",
    "cadastro_valores('Qtd ativação operações', distribuicao_operacoes)\n",
    "\n",
    "# Salvar o arquivo final em Excel\n",
    "arq_metas.to_excel(\"Planilha_Metas.xlsx\", index=False)\n",
    "print(\"Arquivo Excel criado com sucesso!\")\n"
   ]
  },
  {
   "cell_type": "code",
   "execution_count": null,
   "id": "663d0d39-af27-4a76-ba05-b720c7ff8382",
   "metadata": {},
   "outputs": [],
   "source": []
  },
  {
   "cell_type": "code",
   "execution_count": null,
   "id": "8a23e04d-952d-474b-b81a-66d3c5995a91",
   "metadata": {},
   "outputs": [],
   "source": []
  }
 ],
 "metadata": {
  "kernelspec": {
   "display_name": "Python 3 (ipykernel)",
   "language": "python",
   "name": "python3"
  },
  "language_info": {
   "codemirror_mode": {
    "name": "ipython",
    "version": 3
   },
   "file_extension": ".py",
   "mimetype": "text/x-python",
   "name": "python",
   "nbconvert_exporter": "python",
   "pygments_lexer": "ipython3",
   "version": "3.11.7"
  }
 },
 "nbformat": 4,
 "nbformat_minor": 5
}
